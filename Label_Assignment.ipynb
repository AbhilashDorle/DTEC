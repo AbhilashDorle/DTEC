{
 "cells": [
  {
   "cell_type": "code",
   "execution_count": 1,
   "metadata": {},
   "outputs": [],
   "source": [
    "import numpy as np\n",
    "import pandas as pd\n",
    "import math"
   ]
  },
  {
   "cell_type": "markdown",
   "metadata": {},
   "source": [
    "## Function to assign Labels\n",
    "### D = Distance Matrix\n",
    "### K = number of classes\n",
    "### returns Y"
   ]
  },
  {
   "cell_type": "code",
   "execution_count": 2,
   "metadata": {},
   "outputs": [],
   "source": [
    "def assign(ts,Ks,D,K,global_chnpt,max_length):\n",
    "    Y=np.empty([len(ts),K])\n",
    "    Ks=Ks-1\n",
    "    L_index=0\n",
    "    for i in range(0,Y.shape[1]):\n",
    "        Y[0][i]=1/K\n",
    "    for j in range(0,Y.shape[1]):\n",
    "        if j==Ks:\n",
    "            L_index=j\n",
    "            break\n",
    "    for i in global_chnpt:\n",
    "        t=i-(max_length-1)\n",
    "        Y_tKs=(1/K)+((K-1)/K)*summation(D,t)\n",
    "        for j in range(0,Y.shape[1]):\n",
    "            if j==L_index:\n",
    "                Y[i][j]=Y_tKs\n",
    "            else:\n",
    "                Y[i][j]=(1/(K-1))*(1-Y_tKs)\n",
    "    for i in range(1,Y.shape[0]):\n",
    "        if i not in global_chnpt:\n",
    "            for j in range(0,Y.shape[1]):\n",
    "                Y[i][j]=Y[i-1][j]\n",
    "    return Y"
   ]
  },
  {
   "cell_type": "code",
   "execution_count": 3,
   "metadata": {},
   "outputs": [],
   "source": [
    "def summation(D,t):\n",
    "    temp_numerator=0\n",
    "    temp_denominator=0\n",
    "    for j in range(0, D.shape[1]):\n",
    "        temp_numerator=temp_numerator+(D[0][j]-D[t][j])\n",
    "        temp_denominator=temp_denominator+(D[0][j]-D[D.shape[0]-1][j])\n",
    "    return (temp_numerator/temp_denominator)"
   ]
  }
 ],
 "metadata": {
  "kernelspec": {
   "display_name": "Python 3",
   "language": "python",
   "name": "python3"
  },
  "language_info": {
   "codemirror_mode": {
    "name": "ipython",
    "version": 3
   },
   "file_extension": ".py",
   "mimetype": "text/x-python",
   "name": "python",
   "nbconvert_exporter": "python",
   "pygments_lexer": "ipython3",
   "version": "3.7.3"
  }
 },
 "nbformat": 4,
 "nbformat_minor": 2
}
