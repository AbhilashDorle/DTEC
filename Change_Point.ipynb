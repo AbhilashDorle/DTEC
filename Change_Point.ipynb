{
 "cells": [
  {
   "cell_type": "code",
   "execution_count": 1,
   "metadata": {},
   "outputs": [],
   "source": [
    "import pandas as pd\n",
    "import numpy as np"
   ]
  },
  {
   "cell_type": "code",
   "execution_count": 3,
   "metadata": {},
   "outputs": [],
   "source": [
    "def changepoint(D):\n",
    "    nochange_set=set()\n",
    "    change_set=set()\n",
    "    test=[]\n",
    "    for i in range(0,D.shape[1]):\n",
    "        for j in range(1,(D.shape[0]-1)):\n",
    "            if D[j][i]<D[j-1][i]:\n",
    "                change_set.add(j)\n",
    "    change_set.add(0)\n",
    "    for i in range(0,D.shape[0]):\n",
    "        if i not in change_set:\n",
    "            nochange_set.add(i)\n",
    "    \n",
    "    nochange_ind=list(nochange_set)\n",
    "    change_ind=list(change_set)\n",
    "    return D,change_ind,nochange_ind"
   ]
  }
 ],
 "metadata": {
  "kernelspec": {
   "display_name": "Python 3",
   "language": "python",
   "name": "python3"
  },
  "language_info": {
   "codemirror_mode": {
    "name": "ipython",
    "version": 3
   },
   "file_extension": ".py",
   "mimetype": "text/x-python",
   "name": "python",
   "nbconvert_exporter": "python",
   "pygments_lexer": "ipython3",
   "version": "3.7.3"
  }
 },
 "nbformat": 4,
 "nbformat_minor": 2
}
