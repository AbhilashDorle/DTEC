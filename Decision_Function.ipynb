{
 "cells": [
  {
   "cell_type": "code",
   "execution_count": 1,
   "metadata": {},
   "outputs": [],
   "source": [
    "import pandas as pd\n",
    "import numpy as np\n",
    "from scipy.spatial import distance\n",
    "import random\n",
    "from scipy import linalg"
   ]
  },
  {
   "cell_type": "code",
   "execution_count": 2,
   "metadata": {},
   "outputs": [],
   "source": [
    "def decision(df,Dlist,E,K,Llist,H,iterations,lambda1,lambda2,rho):\n",
    "    W_list=[]\n",
    "    W=np.random.rand(K-1,H+1)#different from paper\n",
    "    W_temp=np.random.rand(K-1,H+1)#different from paper\n",
    "    W_tempnorm=W_temp/(np.linalg.norm(W_temp,'fro'))\n",
    "    A=np.random.rand(K-1,H+1)#different from paper\n",
    "    B=np.random.rand(K-1,H+1)#different from paper\n",
    "    C=np.random.rand(K-1,H+1)#different from paper\n",
    "    U=np.random.rand(K-1,H+1)\n",
    "    V=np.random.rand(K-1,H+1)\n",
    "#     lambda1=.01#hyperparameter\n",
    "#     lambda2=.001#hyperparameter\n",
    "#     rho=.0001#hyperparameter\n",
    "    ind=df.index.values\n",
    "    flag=True\n",
    "    for item in range(0,iterations):\n",
    "        W=calculateW(df,Llist,Dlist,A,U,B,V,ind,rho)\n",
    "        W=W/(np.linalg.norm(W,'fro'))\n",
    "#         print(W)\n",
    "#         print('WWWWWWWWWWWWWWWWWWWWWWWWWWWWWWWWWWWW')\n",
    "#         print(U)\n",
    "# #         print('UUUUUUUUUUUUUUUUUUUUUUUUUUUUUUUUUUUUUU')\n",
    "        A=calculateA(C,A,W,U,lambda2,E,rho)\n",
    "        WU=W+U\n",
    "#         print(WU)\n",
    "        B=calculateB(W,V,WU,lambda1,rho)\n",
    "#         diff=W-W_temp\n",
    "        print(item,\"iteration :\",np.linalg.norm((W-W_temp),2))\n",
    "        W_list.append(np.linalg.norm((W-W_temp),2))\n",
    "        W_temp=W\n",
    "        print(\"***************************************************************\")\n",
    "    print(\"Done\")\n",
    "    return W,W_list"
   ]
  },
  {
   "cell_type": "code",
   "execution_count": 3,
   "metadata": {},
   "outputs": [],
   "source": [
    "def calculateW(df,Llist,D_list,A,U,B,V,index,rho):\n",
    "    for k in range(0,df.shape[0]):\n",
    "        ts=df.iloc[k]\n",
    "        Ln=Llist[k]\n",
    "        Ln=Ln.T\n",
    "        Dq=D_list[k]\n",
    "#         Dq=np.nan_to_num(Dq)\n",
    "        first=np.dot(Ln,Dq)+(0.5*rho*A)-(0.5*rho*U)+(0.5*rho*B)-(0.5*rho*V)\n",
    "#         print(first)\n",
    "#         print('#############################')\n",
    "#         first=np.nan_to_num(first,nan=random.uniform(0,1),posinf=random.uniform(0,1),neginf=random.uniform(0,1))\n",
    "        second_one=np.dot(Dq.T,Dq)#+2*rho*(np.identity(Dq.shape[1])))\n",
    "#         second_one=np.nan_to_num(second_one,nan=random.uniform(0,1),posinf=random.uniform(0,1),neginf=random.uniform(0,1))\n",
    "        second_second=2*rho*(np.identity(second_one.shape[0]))\n",
    "#         second_second=np.nan_to_num(second_second,nan=random.uniform(0,1),posinf=random.uniform(0,1),neginf=random.uniform(0,1))\n",
    "        second_temp=second_one+second_second\n",
    "#         second_temp=np.nan_to_num(second_temp,nan=random.uniform(0,1),posinf=random.uniform(0,1),neginf=random.uniform(0,1))\n",
    "        det = np.linalg.det(second_temp)\n",
    "        if det!=0:\n",
    "            second=linalg.inv(second_temp)\n",
    "        else:\n",
    "            print('here')\n",
    "            second=second_temp\n",
    "#         second=np.nan_to_num(second,nan=random.uniform(0,1),posinf=random.uniform(0,1),neginf=random.uniform(0,1))\n",
    "        w=np.dot(first,second_temp)\n",
    "#         w=np.nan_to_num(w,nan=random.uniform(0,1),posinf=random.uniform(0,1),neginf=random.uniform(0,1))\n",
    "    return w"
   ]
  },
  {
   "cell_type": "code",
   "execution_count": 4,
   "metadata": {},
   "outputs": [],
   "source": [
    "def calculateA(C,A,W,U,lambda2,E,rho):\n",
    "    j=0\n",
    "    i=0\n",
    "    while j<W.shape[1]:\n",
    "        C=W[:,i]+U[:,i]\n",
    "        temp1=rho*np.linalg.norm(C,2)\n",
    "        temp2=2*lambda2*E[i]\n",
    "        temp=temp2/temp1\n",
    "        temp=1-temp\n",
    "        if temp<=0:\n",
    "            A[:,i]=0\n",
    "        else:\n",
    "            A[:,i]=temp\n",
    "#             print('greater than')\n",
    "#         print('temp',temp)\n",
    "#         A[:,i]=temp\n",
    "#         if A[:,i].all()<=0:\n",
    "#             A[:,i]=0\n",
    "#         A[:,i]=np.nan_to_num(A[:,i],nan=random.uniform(0,1),posinf=random.uniform(0,1),neginf=random.uniform(0,1))\n",
    "        i=i+1\n",
    "        j=j+1\n",
    "    return A"
   ]
  },
  {
   "cell_type": "code",
   "execution_count": 5,
   "metadata": {},
   "outputs": [],
   "source": [
    "def calculateB(W,V,WU,lambda1,rho):\n",
    "    b=np.empty([W.shape[0],W.shape[1]])\n",
    "    for i in range(0,W.shape[0]):\n",
    "        for j in range(0,W.shape[1]):\n",
    "            if WU[i][j]>=((1-lambda1)/rho):\n",
    "                b[i][j]=(W[i][j]+V[i][j])-((1-lambda1)/rho)\n",
    "            elif WU[i][j]<=(-1)*((1-lambda1)/rho):\n",
    "                b[i][j]= (W[i][j]+V[i][j])+((1-lambda1)/rho)\n",
    "            else:\n",
    "                b[i][j]=0\n",
    "#     b=np.nan_to_num(b,nan=random.uniform(0,1),posinf=random.uniform(0,1),neginf=random.uniform(0,1))\n",
    "    return b"
   ]
  }
 ],
 "metadata": {
  "kernelspec": {
   "display_name": "Python 3",
   "language": "python",
   "name": "python3"
  },
  "language_info": {
   "codemirror_mode": {
    "name": "ipython",
    "version": 3
   },
   "file_extension": ".py",
   "mimetype": "text/x-python",
   "name": "python",
   "nbconvert_exporter": "python",
   "pygments_lexer": "ipython3",
   "version": "3.6.6"
  }
 },
 "nbformat": 4,
 "nbformat_minor": 2
}
