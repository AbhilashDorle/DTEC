{
 "cells": [
  {
   "cell_type": "code",
   "execution_count": 1,
   "metadata": {},
   "outputs": [],
   "source": [
    "import pandas as pd\n",
    "from statistics import mean,stdev\n",
    "import numpy as np\n",
    "from scipy.spatial import distance\n",
    "import math\n",
    "import random\n",
    "from scipy import linalg\n",
    "import matplotlib.pyplot as plt\n",
    "from sklearn.cluster import KMeans\n",
    "from sklearn.metrics.cluster import adjusted_rand_score\n",
    "from ipynb.fs.full.Cluster import cluster\n",
    "from ipynb.fs.full.Subsequence_Distance import identifyshapelets\n",
    "from ipynb.fs.full.Distance_Information import transform\n",
    "from ipynb.fs.full.Label_Assignment import assign\n",
    "from ipynb.fs.full.Change_Point import changepoint\n",
    "from ipynb.fs.full.L_Calculation import cal_L\n",
    "from ipynb.fs.full.Decision_Function import decision\n",
    "from ipynb.fs.full.test_distance import trans"
   ]
  },
  {
   "cell_type": "code",
   "execution_count": 2,
   "metadata": {
    "scrolled": true
   },
   "outputs": [
    {
     "data": {
      "text/plain": [
       "(16, 12)"
      ]
     },
     "execution_count": 2,
     "metadata": {},
     "output_type": "execute_result"
    }
   ],
   "source": [
    "ts_df =pd.read_csv(r\"D:\\Dr. Sheng Li\\Datasets\\UCRArchive_2018\\GunPoint\\sample2.tsv\",sep=\"\\t\")# Line 2 in table 2\n",
    "dataset=ts_df.drop(ts_df.columns[0],axis=1)\n",
    "dataset.columns = range(dataset.shape[1])\n",
    "labels=ts_df['0']\n",
    "labels=np.array(labels)\n",
    "unique_labels=np.unique(labels)\n",
    "num_classes=unique_labels.shape[0]\n",
    "# labels\n",
    "dataset.shape"
   ]
  },
  {
   "cell_type": "code",
   "execution_count": 4,
   "metadata": {},
   "outputs": [
    {
     "data": {
      "text/html": [
       "<div>\n",
       "<style scoped>\n",
       "    .dataframe tbody tr th:only-of-type {\n",
       "        vertical-align: middle;\n",
       "    }\n",
       "\n",
       "    .dataframe tbody tr th {\n",
       "        vertical-align: top;\n",
       "    }\n",
       "\n",
       "    .dataframe thead th {\n",
       "        text-align: right;\n",
       "    }\n",
       "</style>\n",
       "<table border=\"1\" class=\"dataframe\">\n",
       "  <thead>\n",
       "    <tr style=\"text-align: right;\">\n",
       "      <th></th>\n",
       "      <th>0</th>\n",
       "      <th>1</th>\n",
       "      <th>2</th>\n",
       "      <th>3</th>\n",
       "      <th>4</th>\n",
       "      <th>5</th>\n",
       "      <th>6</th>\n",
       "      <th>7</th>\n",
       "      <th>8</th>\n",
       "      <th>9</th>\n",
       "      <th>10</th>\n",
       "      <th>11</th>\n",
       "    </tr>\n",
       "  </thead>\n",
       "  <tbody>\n",
       "    <tr>\n",
       "      <th>0</th>\n",
       "      <td>-0.647885</td>\n",
       "      <td>-0.641992</td>\n",
       "      <td>-0.638186</td>\n",
       "      <td>-0.638259</td>\n",
       "      <td>-0.638345</td>\n",
       "      <td>-0.638697</td>\n",
       "      <td>-0.643049</td>\n",
       "      <td>-0.643768</td>\n",
       "      <td>-0.645050</td>\n",
       "      <td>-0.647118</td>\n",
       "      <td>-0.649153</td>\n",
       "      <td>-0.651246</td>\n",
       "    </tr>\n",
       "    <tr>\n",
       "      <th>1</th>\n",
       "      <td>-0.644427</td>\n",
       "      <td>-0.645401</td>\n",
       "      <td>-0.647055</td>\n",
       "      <td>-0.647492</td>\n",
       "      <td>-0.646910</td>\n",
       "      <td>-0.643884</td>\n",
       "      <td>-0.639731</td>\n",
       "      <td>-0.638094</td>\n",
       "      <td>-0.635297</td>\n",
       "      <td>-0.635384</td>\n",
       "      <td>-0.634114</td>\n",
       "      <td>-0.633719</td>\n",
       "    </tr>\n",
       "    <tr>\n",
       "      <th>2</th>\n",
       "      <td>-0.778353</td>\n",
       "      <td>-0.778279</td>\n",
       "      <td>-0.777151</td>\n",
       "      <td>-0.777684</td>\n",
       "      <td>-0.775900</td>\n",
       "      <td>-0.772421</td>\n",
       "      <td>-0.765464</td>\n",
       "      <td>-0.762275</td>\n",
       "      <td>-0.763752</td>\n",
       "      <td>-0.765356</td>\n",
       "      <td>-0.765617</td>\n",
       "      <td>-0.765978</td>\n",
       "    </tr>\n",
       "    <tr>\n",
       "      <th>3</th>\n",
       "      <td>-0.750060</td>\n",
       "      <td>-0.748103</td>\n",
       "      <td>-0.746164</td>\n",
       "      <td>-0.745926</td>\n",
       "      <td>-0.743767</td>\n",
       "      <td>-0.743805</td>\n",
       "      <td>-0.745213</td>\n",
       "      <td>-0.745082</td>\n",
       "      <td>-0.745727</td>\n",
       "      <td>-0.745815</td>\n",
       "      <td>-0.745989</td>\n",
       "      <td>-0.745682</td>\n",
       "    </tr>\n",
       "    <tr>\n",
       "      <th>4</th>\n",
       "      <td>-0.599539</td>\n",
       "      <td>-0.597422</td>\n",
       "      <td>-0.599269</td>\n",
       "      <td>-0.598259</td>\n",
       "      <td>-0.597582</td>\n",
       "      <td>-0.591303</td>\n",
       "      <td>-0.589020</td>\n",
       "      <td>-0.587533</td>\n",
       "      <td>-0.585462</td>\n",
       "      <td>-0.583848</td>\n",
       "      <td>-0.581602</td>\n",
       "      <td>-0.578487</td>\n",
       "    </tr>\n",
       "  </tbody>\n",
       "</table>\n",
       "</div>"
      ],
      "text/plain": [
       "          0         1         2         3         4         5         6  \\\n",
       "0 -0.647885 -0.641992 -0.638186 -0.638259 -0.638345 -0.638697 -0.643049   \n",
       "1 -0.644427 -0.645401 -0.647055 -0.647492 -0.646910 -0.643884 -0.639731   \n",
       "2 -0.778353 -0.778279 -0.777151 -0.777684 -0.775900 -0.772421 -0.765464   \n",
       "3 -0.750060 -0.748103 -0.746164 -0.745926 -0.743767 -0.743805 -0.745213   \n",
       "4 -0.599539 -0.597422 -0.599269 -0.598259 -0.597582 -0.591303 -0.589020   \n",
       "\n",
       "          7         8         9        10        11  \n",
       "0 -0.643768 -0.645050 -0.647118 -0.649153 -0.651246  \n",
       "1 -0.638094 -0.635297 -0.635384 -0.634114 -0.633719  \n",
       "2 -0.762275 -0.763752 -0.765356 -0.765617 -0.765978  \n",
       "3 -0.745082 -0.745727 -0.745815 -0.745989 -0.745682  \n",
       "4 -0.587533 -0.585462 -0.583848 -0.581602 -0.578487  "
      ]
     },
     "execution_count": 4,
     "metadata": {},
     "output_type": "execute_result"
    }
   ],
   "source": [
    "dataset.head()"
   ]
  },
  {
   "cell_type": "code",
   "execution_count": 5,
   "metadata": {
    "scrolled": true
   },
   "outputs": [
    {
     "name": "stdout",
     "output_type": "stream",
     "text": [
      "uShapelets Identified\n",
      "clustering of class 1 complete\n",
      "uShapelets Identified\n",
      "clustering of class 2 complete\n",
      "*********************************\n",
      "Shapelets Identified\n"
     ]
    }
   ],
   "source": [
    "shape=[10,15]#shapelet length\n",
    "rep_df=cluster(shape,ts_df,labels)# From 'Cluster' notebook\n",
    "Shapelets=[]\n",
    "subsequence_sample=[10]# Length of shapelets in DTEC\n",
    "rep_labels=rep_df[0]\n",
    "rep=rep_df.drop(rep_df.columns[0],axis=1)#representative time series\n",
    "rep_labels=rep_labels.astype('int')\n",
    "Shapelets,Earliness=identifyshapelets(ts_df.copy(),rep,subsequence_sample,rep_labels)# From 'Subsequence_Distance' notebook\n",
    "# Earliness\n",
    "Earliness.insert(0,0)"
   ]
  },
  {
   "cell_type": "code",
   "execution_count": 6,
   "metadata": {},
   "outputs": [],
   "source": [
    "rep_df.to_csv('test.csv',index=False)"
   ]
  },
  {
   "cell_type": "code",
   "execution_count": 13,
   "metadata": {
    "scrolled": true
   },
   "outputs": [],
   "source": [
    "D_list=[]\n",
    "df=pd.DataFrame()\n",
    "df1=pd.DataFrame()\n",
    "global_chpoint=[]\n",
    "global_nochpoint=[]\n",
    "local_nochpoint=[]\n",
    "local_chpoint=[]\n",
    "timestamp=[]\n",
    "D_org=[]\n",
    "l=len(max(Shapelets,key=len))-1\n",
    "for i in range(0,dataset.shape[0]):\n",
    "    D_temp=transform(Shapelets,dataset.iloc[i],len(max(Shapelets,key=len)))# From 'Distance_information' notebook\n",
    "    D,chpoint,nochpoint=changepoint(D_temp)\n",
    "    df=pd.DataFrame(D)\n",
    "    local_chpoint.append(chpoint)\n",
    "    chpoint = [x+l for x in chpoint]\n",
    "    local_nochpoint.append(nochpoint)\n",
    "    nochpoint = [x+l for x in nochpoint]\n",
    "    D_list.append(D)\n",
    "    D_org.append(D)\n",
    "    global_chpoint.append(chpoint)\n",
    "    global_nochpoint.append(nochpoint)\n",
    "    test=np.isfinite(D)\n",
    "    for a in test:\n",
    "        for value in a:\n",
    "            if value == False:\n",
    "                print('nan or inf detected')"
   ]
  },
  {
   "cell_type": "code",
   "execution_count": 14,
   "metadata": {},
   "outputs": [
    {
     "data": {
      "text/plain": [
       "True"
      ]
     },
     "execution_count": 14,
     "metadata": {},
     "output_type": "execute_result"
    }
   ],
   "source": [
    "flag=True\n",
    "for k in range(0,len(D_list)):\n",
    "    for i in range(0,D_list[0].shape[1]):\n",
    "        for j in range(1,D_list[0].shape[0]-1):\n",
    "            if D[j][i]>D[j-1][i]:\n",
    "                flag=False\n",
    "                break\n",
    "        if flag==False:\n",
    "            break\n",
    "    if flag==False:\n",
    "        break\n",
    "flag"
   ]
  },
  {
   "cell_type": "code",
   "execution_count": 15,
   "metadata": {
    "scrolled": true
   },
   "outputs": [],
   "source": [
    "Y_org=[]\n",
    "Y_list=[]#label list\n",
    "for i in range(0, len(D_list)):\n",
    "    Y=assign(dataset.iloc[i],labels[i],D_list[i],num_classes,global_chpoint[i],len(max(Shapelets,key=len)))#assigns label\n",
    "    Y_org.append(Y)\n",
    "    for j in range(0,(len(max(Shapelets,key=len))-1)):\n",
    "        global_nochpoint[i].append(j)\n",
    "    Y=np.delete(Y,global_nochpoint[i],0)\n",
    "    test=np.isfinite(Y)\n",
    "    for a in test:\n",
    "        for value in a:\n",
    "            if value == False:\n",
    "                print('nan or inf detected')\n",
    "#     Y=np.nan_to_num(Y,nan=random.uniform(0,1),posinf=random.uniform(0,1),neginf=random.uniform(0,1))\n",
    "    Y_list.append(Y)\n",
    "for i in range(0,len(D_list)):\n",
    "    D_list[i]=np.delete(D_list[i],local_nochpoint[i],0)"
   ]
  },
  {
   "cell_type": "code",
   "execution_count": 16,
   "metadata": {},
   "outputs": [],
   "source": [
    "# for i in Y_list:\n",
    "#     print(i)\n",
    "#     print('####################')"
   ]
  },
  {
   "cell_type": "code",
   "execution_count": 17,
   "metadata": {
    "scrolled": true
   },
   "outputs": [],
   "source": [
    "# for i in range(0,len(Y_list)):\n",
    "#     print('iteration',i)\n",
    "#     print('Y',Y_list[i].shape)\n",
    "#     print('D',D_list[i].shape)\n",
    "#     print('********************************')"
   ]
  },
  {
   "cell_type": "code",
   "execution_count": 18,
   "metadata": {
    "scrolled": true
   },
   "outputs": [],
   "source": [
    "# for i in range(0,len(D_list)):\n",
    "#     print('D shape',D_list[i].shape)\n",
    "#     print('L shape',L_list[i].shape)\n",
    "#     print('********************************')"
   ]
  },
  {
   "cell_type": "code",
   "execution_count": 19,
   "metadata": {},
   "outputs": [],
   "source": [
    "# df=pd.DataFrame(D_org[5])\n",
    "# df"
   ]
  },
  {
   "cell_type": "code",
   "execution_count": 20,
   "metadata": {},
   "outputs": [],
   "source": [
    "L_list=[]\n",
    "for i in range(0,len(Y_list)):\n",
    "    L_temp=cal_L(Y_list[i],labels[i],num_classes)\n",
    "    test=np.isfinite(L_temp)\n",
    "    for a in test:\n",
    "        for value in a:\n",
    "            if value == False:\n",
    "                print('nan or inf detected',i)\n",
    "                L_temp=np.nan_to_num(L_temp,nan=random.uniform(0,1),posinf=random.uniform(0,1),neginf=random.uniform(0,1))\n",
    "    L_list.append(L_temp)"
   ]
  },
  {
   "cell_type": "code",
   "execution_count": 11,
   "metadata": {
    "scrolled": true
   },
   "outputs": [],
   "source": [
    "def fig(i,j,k,t):\n",
    "    print('here')\n",
    "    s='lambda1 = '+str(i)+\" lambda2 = \"+str(j)+\" rho = \"+str(k)\n",
    "    y=np.arange(50)\n",
    "    plt.scatter(y,W_list)\n",
    "    plt.xlabel('Iterations')\n",
    "    plt.ylabel('Difference')\n",
    "    plt.text(9,W_list[0],s)\n",
    "    ss='Figure'+str(t)+'.jpeg'\n",
    "    plt.savefig(ss)\n",
    "    plt.show()"
   ]
  },
  {
   "cell_type": "code",
   "execution_count": 15,
   "metadata": {},
   "outputs": [],
   "source": [
    "rho_list=[0.001]#,0.002,0.003,0.004,0.005,0.006,0.007,0.008,0.009,0.02,0.03,0.04,0.05,0.06,0.07,0.08]\n",
    "lambda1_list=[0.1]#,0.2,0.3,0.4,0.5,0.6,0.7,0.8,0.9]\n",
    "lambda2_list=[0.1,0.2]#,0.3,0.4,0.5,0.6,0.7,0.8,0.9]"
   ]
  },
  {
   "cell_type": "code",
   "execution_count": 21,
   "metadata": {},
   "outputs": [],
   "source": [
    "test=1\n",
    "for i in lambda1_list:\n",
    "    for j in lambda2_list:\n",
    "        for k in rho_list:\n",
    "            print('here')\n",
    "            W_list=[]\n",
    "            W,W_list=decision(dataset,D_list,Earliness,num_classes,L_list,len(Shapelets),50,i,j,k)\n",
    "            fig(i,j,k,test)\n",
    "            test=test+1"
   ]
  },
  {
   "cell_type": "code",
   "execution_count": 10,
   "metadata": {},
   "outputs": [
    {
     "ename": "NameError",
     "evalue": "name 'decisionn' is not defined",
     "output_type": "error",
     "traceback": [
      "\u001b[0;31m---------------------------------------------------------------------------\u001b[0m",
      "\u001b[0;31mNameError\u001b[0m                                 Traceback (most recent call last)",
      "\u001b[0;32m<ipython-input-10-2804e3d1b23f>\u001b[0m in \u001b[0;36m<module>\u001b[0;34m\u001b[0m\n\u001b[1;32m      2\u001b[0m \u001b[0;31m#     lambda2=.01#hyperparameter\u001b[0m\u001b[0;34m\u001b[0m\u001b[0;34m\u001b[0m\u001b[0;34m\u001b[0m\u001b[0m\n\u001b[1;32m      3\u001b[0m \u001b[0;31m#     rho=.0001#hyperparameter\u001b[0m\u001b[0;34m\u001b[0m\u001b[0;34m\u001b[0m\u001b[0;34m\u001b[0m\u001b[0m\n\u001b[0;32m----> 4\u001b[0;31m \u001b[0mW\u001b[0m\u001b[0;34m,\u001b[0m\u001b[0mW_list\u001b[0m\u001b[0;34m=\u001b[0m\u001b[0mdecisionn\u001b[0m\u001b[0;34m(\u001b[0m\u001b[0mdataset\u001b[0m\u001b[0;34m,\u001b[0m\u001b[0mD_list\u001b[0m\u001b[0;34m,\u001b[0m\u001b[0mEarliness\u001b[0m\u001b[0;34m,\u001b[0m\u001b[0mnum_classes\u001b[0m\u001b[0;34m,\u001b[0m\u001b[0mL_list\u001b[0m\u001b[0;34m,\u001b[0m\u001b[0mlen\u001b[0m\u001b[0;34m(\u001b[0m\u001b[0mShapelets\u001b[0m\u001b[0;34m)\u001b[0m\u001b[0;34m,\u001b[0m\u001b[0;36m5\u001b[0m\u001b[0;34m,\u001b[0m\u001b[0;36m0.01\u001b[0m\u001b[0;34m,\u001b[0m\u001b[0;36m0.01\u001b[0m\u001b[0;34m,\u001b[0m\u001b[0;36m0.001\u001b[0m\u001b[0;34m)\u001b[0m\u001b[0;34m\u001b[0m\u001b[0;34m\u001b[0m\u001b[0m\n\u001b[0m",
      "\u001b[0;31mNameError\u001b[0m: name 'decisionn' is not defined"
     ]
    }
   ],
   "source": [
    "#     lambda1=.01#hyperparameter\n",
    "#     lambda2=.01#hyperparameter\n",
    "#     rho=.0001#hyperparameter\n",
    "W,W_list=decisionn(dataset,D_list,Earliness,num_classes,L_list,len(Shapelets),5,0.01,0.01,0.001)"
   ]
  },
  {
   "cell_type": "code",
   "execution_count": 23,
   "metadata": {
    "scrolled": true
   },
   "outputs": [
    {
     "name": "stdout",
     "output_type": "stream",
     "text": [
      "0 iteration : 6.034465593686552\n",
      "***************************************************************\n",
      "1 iteration : 0.0034266008891469983\n",
      "***************************************************************\n",
      "2 iteration : 1.943969419232392e-06\n",
      "***************************************************************\n",
      "3 iteration : 1.102930648887832e-09\n",
      "***************************************************************\n",
      "4 iteration : 6.257589456730803e-13\n",
      "***************************************************************\n",
      "5 iteration : 3.5487976162877596e-16\n",
      "***************************************************************\n",
      "6 iteration : 4.599880250050123e-19\n",
      "***************************************************************\n",
      "7 iteration : 0.0\n",
      "***************************************************************\n",
      "8 iteration : 0.0\n",
      "***************************************************************\n",
      "9 iteration : 0.0\n",
      "***************************************************************\n",
      "Done\n"
     ]
    }
   ],
   "source": [
    "#     lambda1=.01#hyperparameter\n",
    "#     lambda2=.01#hyperparameter\n",
    "#     rho=.0001#hyperparameter\n",
    "W,W_list=decision(dataset,D_list,Earliness,num_classes,L_list,len(Shapelets),10,0.9,0.9,0.8)"
   ]
  },
  {
   "cell_type": "code",
   "execution_count": 22,
   "metadata": {},
   "outputs": [],
   "source": [
    "# def decisionn(df,Dlist,E,K,Llist,H,iterations,lambda1,lambda2,rho):\n",
    "#     W_list=[]\n",
    "#     W=np.random.rand(K-1,H+1)#different from paper\n",
    "#     W_temp=np.random.rand(K-1,H+1)#different from paper\n",
    "#     W_temp=W_temp/(np.linalg.norm(W_temp,'fro'))\n",
    "#     A=np.random.rand(K-1,H+1)#different from paper\n",
    "#     A=A/(np.linalg.norm(A,'fro'))\n",
    "#     B=np.random.rand(K-1,H+1)#different from paper\n",
    "#     B=B/(np.linalg.norm(B,'fro'))\n",
    "#     C=np.random.rand(K-1,H+1)#different from paper\n",
    "#     C=C/(np.linalg.norm(C,'fro'))\n",
    "#     U=np.random.rand(K-1,H+1)\n",
    "#     U=U/(np.linalg.norm(U,'fro'))\n",
    "#     V=np.random.rand(K-1,H+1)\n",
    "#     V=V/(np.linalg.norm(V,'fro'))\n",
    "# #     lambda1=.01#hyperparameter\n",
    "# #     lambda2=.001#hyperparameter\n",
    "# #     rho=.0001#hyperparameter\n",
    "#     ind=df.index.values\n",
    "#     flag=True\n",
    "#     for item in range(0,iterations):\n",
    "#         W=calculateW(df,Llist,Dlist,A,U,B,V,ind,rho)\n",
    "#         W=W/(np.linalg.norm(W,'fro'))\n",
    "# #         flag=True\n",
    "# #         for i in range(0,W.shape[0]):\n",
    "# #             for j in range(0,W.shape[1]):\n",
    "# #                 if W[i][j] == W_temp[i][j]:\n",
    "# #                     flag=True\n",
    "# #                 else:\n",
    "# #                     flag=False\n",
    "# #                     break\n",
    "# #             if flag == False:\n",
    "# #                 break\n",
    "        \n",
    "# #         print(W)\n",
    "# #         print('WWWWWWWWWWWWWWWWWWWWWWWWWWWWWWWWWWWW')\n",
    "# #         print(U)\n",
    "# # #         print('UUUUUUUUUUUUUUUUUUUUUUUUUUUUUUUUUUUUUU')\n",
    "#         A=calculateA(C,A,W,U,lambda2,E,rho)\n",
    "# #         print(flag)\n",
    "#         WU=W+U\n",
    "# #         print(WU)\n",
    "#         B=calculateB(W,V,WU,lambda1,rho)\n",
    "# #         diff=W-W_temp\n",
    "#         print(item,\"iteration :\",np.linalg.norm((W-W_temp),2))\n",
    "#         W_list.append(np.linalg.norm((W-W_temp),2))\n",
    "#         W_temp=W\n",
    "#         print(\"***************************************************************\")\n",
    "#     print(\"Done\")\n",
    "#     return W,W_list"
   ]
  },
  {
   "cell_type": "code",
   "execution_count": 15,
   "metadata": {},
   "outputs": [],
   "source": [
    "# def calculateW(df,Llist,D_list,A,U,B,V,index,rho):\n",
    "#     for k in range(0,df.shape[0]):\n",
    "#         ts=df.iloc[k]\n",
    "#         Ln=Llist[k]\n",
    "#         Ln=Ln.T\n",
    "#         Dq=D_list[k]\n",
    "# #         Dq=np.nan_to_num(Dq)\n",
    "#         first=np.dot(Ln,Dq)+(0.5*rho*A)-(0.5*rho*U)+(0.5*rho*B)-(0.5*rho*V)\n",
    "# #         print(first)\n",
    "# #         print('#############################')\n",
    "# #         first=np.nan_to_num(first,nan=random.uniform(0,1),posinf=random.uniform(0,1),neginf=random.uniform(0,1))\n",
    "#         second_one=np.dot(Dq.T,Dq)#+2*rho*(np.identity(Dq.shape[1])))\n",
    "# #         second_one=np.nan_to_num(second_one,nan=random.uniform(0,1),posinf=random.uniform(0,1),neginf=random.uniform(0,1))\n",
    "#         second_second=2*rho*(np.identity(second_one.shape[0]))\n",
    "# #         second_second=np.nan_to_num(second_second,nan=random.uniform(0,1),posinf=random.uniform(0,1),neginf=random.uniform(0,1))\n",
    "#         second_temp=second_one+second_second\n",
    "# #         second_temp=np.nan_to_num(second_temp,nan=random.uniform(0,1),posinf=random.uniform(0,1),neginf=random.uniform(0,1))\n",
    "#         det = np.linalg.det(second_temp)\n",
    "#         if det!=0:\n",
    "#             second=linalg.inv(second_temp)\n",
    "#         else:\n",
    "#             print('here')\n",
    "#             second=second_temp\n",
    "# #         second=np.nan_to_num(second,nan=random.uniform(0,1),posinf=random.uniform(0,1),neginf=random.uniform(0,1))\n",
    "#         w=np.dot(first,second_temp)\n",
    "# #         w=np.nan_to_num(w,nan=random.uniform(0,1),posinf=random.uniform(0,1),neginf=random.uniform(0,1))\n",
    "#     return w"
   ]
  },
  {
   "cell_type": "code",
   "execution_count": 16,
   "metadata": {},
   "outputs": [],
   "source": [
    "# def calculateA(C,A,W,U,lambda2,E,rho):\n",
    "#     j=0\n",
    "#     i=0\n",
    "#     while j<W.shape[1]:\n",
    "#         C=W[:,i]+U[:,i]\n",
    "#         temp1=rho*np.linalg.norm(C,2)\n",
    "#         temp2=2*lambda2*E[i]\n",
    "#         temp=temp2/temp1\n",
    "#         temp=1-temp\n",
    "#         if temp<=0:\n",
    "#             A[:,i]=0\n",
    "#         else:\n",
    "#             A[:,i]=temp\n",
    "# #             print('greater than')\n",
    "# #         print('temp',temp)\n",
    "# #         A[:,i]=temp\n",
    "# #         if A[:,i].all()<=0:\n",
    "# #             A[:,i]=0\n",
    "# #         A[:,i]=np.nan_to_num(A[:,i],nan=random.uniform(0,1),posinf=random.uniform(0,1),neginf=random.uniform(0,1))\n",
    "#         i=i+1\n",
    "#         j=j+1\n",
    "#     return A"
   ]
  },
  {
   "cell_type": "code",
   "execution_count": 17,
   "metadata": {},
   "outputs": [],
   "source": [
    "# def calculateB(W,V,WU,lambda1,rho):\n",
    "#     b=np.empty([W.shape[0],W.shape[1]])\n",
    "#     for i in range(0,W.shape[0]):\n",
    "#         for j in range(0,W.shape[1]):\n",
    "#             if WU[i][j]>=((1-lambda1)/rho):\n",
    "#                 b[i][j]=(W[i][j]+V[i][j])-((1-lambda1)/rho)\n",
    "#             elif WU[i][j]<=(-1)*((1-lambda1)/rho):\n",
    "#                 b[i][j]= (W[i][j]+V[i][j])+((1-lambda1)/rho)\n",
    "#             else:\n",
    "#                 b[i][j]=0\n",
    "# #     b=np.nan_to_num(b,nan=random.uniform(0,1),posinf=random.uniform(0,1),neginf=random.uniform(0,1))\n",
    "#     return b"
   ]
  },
  {
   "cell_type": "code",
   "execution_count": 38,
   "metadata": {},
   "outputs": [],
   "source": [
    "test_df =pd.read_csv(r\"D:\\Dr. Sheng Li\\Datasets\\UCRArchive_2018\\CBF\\sample1test.tsv\",sep=\"\\t\")\n",
    "test_data=test_df.drop(test_df.columns[0],axis=1)\n",
    "test_labels=test_df['0']\n",
    "test_labels=np.array(test_labels)\n",
    "length=len(max(Shapelets,key=len))\n",
    "test_labels=test_labels-1"
   ]
  },
  {
   "cell_type": "code",
   "execution_count": 48,
   "metadata": {},
   "outputs": [
    {
     "data": {
      "text/plain": [
       "array([1, 1, 0, 2, 0, 2], dtype=int64)"
      ]
     },
     "execution_count": 48,
     "metadata": {},
     "output_type": "execute_result"
    }
   ],
   "source": [
    "test_labels"
   ]
  },
  {
   "cell_type": "code",
   "execution_count": 42,
   "metadata": {},
   "outputs": [],
   "source": [
    "def predict(W,D):\n",
    "    Pr_K=0\n",
    "    Dt=D.T\n",
    "    sum=0\n",
    "    for i in range(0,W.shape[0]):\n",
    "        first=W[i][0]\n",
    "        second_temp=W[i][1:W.shape[1]]\n",
    "        second=np.dot(second_temp,Dt)\n",
    "#         print(first+second)\n",
    "        third=np.exp(first+second)\n",
    "        third=np.ndarray.item(third)\n",
    "        sum=sum+(third)\n",
    "#     print(sum)\n",
    "    sum=1+sum\n",
    "    Pr_K=(1/sum)\n",
    "#     print(Pr_K)\n",
    "    prob=np.zeros((W.shape[0]+1))\n",
    "    prob[-1]=Pr_K\n",
    "    for i in range(0,W.shape[0]-1):\n",
    "        first=W[i][0]\n",
    "        second_temp=W[i][1:W.shape[1]]\n",
    "        second=np.dot(second_temp,Dt)\n",
    "#         print(first+second)\n",
    "        third=np.exp(first+second)\n",
    "        third=np.ndarray.item(third)\n",
    "        prob[i]=Pr_K*third\n",
    "    return prob"
   ]
  },
  {
   "cell_type": "code",
   "execution_count": 43,
   "metadata": {},
   "outputs": [],
   "source": [
    "predicted_labels=[]\n",
    "threshold=6\n",
    "timestamp=[]\n",
    "df=pd.DataFrame()\n",
    "for i in range(0,test_data.shape[0]):\n",
    "    temp=test_data.iloc[i]\n",
    "    temp=list(temp)\n",
    "    c_area=0\n",
    "    stamp=0\n",
    "    for j in range(1, len(temp)+1):\n",
    "        stamp=j-1\n",
    "        ts=temp[0:j]\n",
    "        D_temp=trans(Shapelets,ts)\n",
    "#         df=pd.DataFrame(D_temp)\n",
    "        proba=predict(W,D_temp)\n",
    "        sorted_prob=-np.sort(-proba)\n",
    "#         print('iteration :',j)\n",
    "#         print('initial probability ',proba)\n",
    "#         print('sorted prob ',sorted_prob)\n",
    "#         print('###################################')\n",
    "        ind=np.argsort(-proba)\n",
    "#         print(ind)\n",
    "        if j==1:\n",
    "            prev_ind=ind[0]\n",
    "#             print('in j==1')\n",
    "            c_area=sorted_prob[0]-sorted_prob[1]\n",
    "#             print(c_area)\n",
    "            if c_area>threshold:\n",
    "#                 print('first')\n",
    "                predicted_labels.append(ind[0])\n",
    "                break\n",
    "        elif prev_ind == ind[0]:\n",
    "#             print('in next')\n",
    "            c_area=c_area+(sorted_prob[0]-sorted_prob[1])\n",
    "#             print(c_area)\n",
    "            if c_area>threshold:\n",
    "#                 print('second')\n",
    "                predicted_labels.append(ind[0])\n",
    "                break\n",
    "        elif prev_ind != ind[0]:\n",
    "#             print('in last')\n",
    "            prev_ind=ind[0]\n",
    "            c_area=sorted_prob[0]-sorted_prob[1]\n",
    "#             print(c_area)\n",
    "            if c_area>threshold:\n",
    "#                 print('third')\n",
    "                predicted_labels.append(ind[0])\n",
    "                break\n",
    "#         print('#####')\n",
    "    timestamp.append(stamp)"
   ]
  },
  {
   "cell_type": "code",
   "execution_count": 44,
   "metadata": {
    "scrolled": true
   },
   "outputs": [
    {
     "data": {
      "text/plain": [
       "[0, 0, 0, 0, 0, 0]"
      ]
     },
     "execution_count": 44,
     "metadata": {},
     "output_type": "execute_result"
    }
   ],
   "source": [
    "predicted_labels"
   ]
  },
  {
   "cell_type": "code",
   "execution_count": 45,
   "metadata": {},
   "outputs": [
    {
     "data": {
      "text/plain": [
       "[7, 7, 7, 7, 7, 7]"
      ]
     },
     "execution_count": 45,
     "metadata": {},
     "output_type": "execute_result"
    }
   ],
   "source": [
    "timestamp"
   ]
  },
  {
   "cell_type": "code",
   "execution_count": 46,
   "metadata": {},
   "outputs": [],
   "source": [
    "Early=0.0\n",
    "total=0.0\n",
    "for i in range(0,test_data.shape[0]):\n",
    "    total=total+(timestamp[i]/test_data.shape[1])\n",
    "Early=total/test_data.shape[0]"
   ]
  },
  {
   "cell_type": "code",
   "execution_count": 55,
   "metadata": {},
   "outputs": [
    {
     "data": {
      "text/plain": [
       "0.35000000000000003"
      ]
     },
     "execution_count": 55,
     "metadata": {},
     "output_type": "execute_result"
    }
   ],
   "source": [
    "Early"
   ]
  },
  {
   "cell_type": "code",
   "execution_count": 50,
   "metadata": {},
   "outputs": [],
   "source": [
    "Error_rate=0.0\n",
    "incorrect=0\n",
    "for i in range(0,test_data.shape[0]):\n",
    "    if test_labels[i]!=predicted_labels[i]:\n",
    "        incorrect=incorrect+1\n",
    "Error_rate=incorrect/test_data.shape[0]"
   ]
  },
  {
   "cell_type": "code",
   "execution_count": 51,
   "metadata": {},
   "outputs": [
    {
     "data": {
      "text/plain": [
       "0.6666666666666666"
      ]
     },
     "execution_count": 51,
     "metadata": {},
     "output_type": "execute_result"
    }
   ],
   "source": [
    "Error_rate"
   ]
  },
  {
   "cell_type": "code",
   "execution_count": 53,
   "metadata": {},
   "outputs": [],
   "source": [
    "alpha=0.5\n",
    "F_alpha=1/(((1-alpha)/Error_rate)+(alpha/Early))"
   ]
  },
  {
   "cell_type": "code",
   "execution_count": 54,
   "metadata": {},
   "outputs": [
    {
     "data": {
      "text/plain": [
       "0.459016393442623"
      ]
     },
     "execution_count": 54,
     "metadata": {},
     "output_type": "execute_result"
    }
   ],
   "source": [
    "F_alpha"
   ]
  }
 ],
 "metadata": {
  "kernelspec": {
   "display_name": "Python 3",
   "language": "python",
   "name": "python3"
  },
  "language_info": {
   "codemirror_mode": {
    "name": "ipython",
    "version": 3
   },
   "file_extension": ".py",
   "mimetype": "text/x-python",
   "name": "python",
   "nbconvert_exporter": "python",
   "pygments_lexer": "ipython3",
   "version": "3.7.3"
  }
 },
 "nbformat": 4,
 "nbformat_minor": 2
}
