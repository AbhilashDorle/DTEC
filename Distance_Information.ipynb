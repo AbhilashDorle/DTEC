{
 "cells": [
  {
   "cell_type": "code",
   "execution_count": 1,
   "metadata": {},
   "outputs": [],
   "source": [
    "import pandas as pd\n",
    "import numpy as np\n",
    "from scipy.spatial import distance\n",
    "from statistics import mean,stdev"
   ]
  },
  {
   "cell_type": "markdown",
   "metadata": {},
   "source": [
    "## Function to transfrom the time series into Distance space\n",
    "### shapelet: full set\n",
    "### S: Time series (list)\n",
    "### lc= length of the longest shapelet"
   ]
  },
  {
   "cell_type": "code",
   "execution_count": 2,
   "metadata": {},
   "outputs": [],
   "source": [
    "def transform(shapelet,S,lc):\n",
    "    D=np.empty([(len(S)-lc+1),len(shapelet)])\n",
    "    for i in range(0,D.shape[0]):\n",
    "        for j in range(0,D.shape[1]):\n",
    "            D[i][j]=dist(S[0:(lc+i)],shapelet[j])\n",
    "    D=np.insert(D,0,1,axis=1)#convience\n",
    "    return D"
   ]
  },
  {
   "cell_type": "markdown",
   "metadata": {},
   "source": [
    "## Function to calculate the distance between shapelet and subsequence\n",
    "### ts = subsequence\n",
    "### C = One Shapelet"
   ]
  },
  {
   "cell_type": "code",
   "execution_count": 3,
   "metadata": {},
   "outputs": [],
   "source": [
    "def dist(ts,C):\n",
    "    long_len=0\n",
    "    short_len=0\n",
    "    s_copy=[]\n",
    "    long_list=[]\n",
    "    minimum=10000.0\n",
    "    if len(ts)>len(C):\n",
    "        long_len=len(ts)\n",
    "        short_len=len(C)\n",
    "        long_list=list(ts)\n",
    "        s_copy=list(C)\n",
    "        s_copy=znorm(s_copy)\n",
    "    elif len(ts)<len(C):\n",
    "        long_len=len(C)\n",
    "        short_len=len(ts)\n",
    "        long_list=list(C)\n",
    "        s_copy=list(ts)\n",
    "        s_copy=znorm(s_copy)\n",
    "    else:\n",
    "        ts_copy=list(ts)\n",
    "        ts_copy=znorm(ts_copy)\n",
    "        C_copy=list(C)\n",
    "        C_copy=znorm(C_copy)\n",
    "        return distance.euclidean(ts_copy,C_copy)\n",
    "    for i in range(0,(long_len-short_len)+1):\n",
    "        longlist_copy=long_list[i:(i+len(s_copy))].copy()\n",
    "        z=znorm(longlist_copy)# Line 6 in Table 4\n",
    "        d_temp=distance.euclidean(z,s_copy)\n",
    "        if d_temp<minimum:\n",
    "            d=d_temp\n",
    "            minimum=d_temp\n",
    "#         print(d)\n",
    "    return d"
   ]
  },
  {
   "cell_type": "markdown",
   "metadata": {},
   "source": [
    "### Function to perform normalisation"
   ]
  },
  {
   "cell_type": "code",
   "execution_count": 4,
   "metadata": {},
   "outputs": [],
   "source": [
    "def znorm(ser):\n",
    "    new_ser=[]\n",
    "    u=mean(ser)\n",
    "    sigma=np.std(ser)\n",
    "    index=0\n",
    "    for value in ser:\n",
    "        new_ser.append((value-u)/sigma)\n",
    "        index=index+1\n",
    "    new_ser=np.array(new_ser)\n",
    "    return new_ser"
   ]
  },
  {
   "cell_type": "code",
   "execution_count": 5,
   "metadata": {},
   "outputs": [],
   "source": [
    "# ts_d=[10,23,50,60,50,60,74,88,96,100]\n",
    "# shape=[[1,2,3,4],[5,6,7]]\n",
    "# let=4\n",
    "# transform(shape,ts_d,let)"
   ]
  }
 ],
 "metadata": {
  "kernelspec": {
   "display_name": "Python 3",
   "language": "python",
   "name": "python3"
  },
  "language_info": {
   "codemirror_mode": {
    "name": "ipython",
    "version": 3
   },
   "file_extension": ".py",
   "mimetype": "text/x-python",
   "name": "python",
   "nbconvert_exporter": "python",
   "pygments_lexer": "ipython3",
   "version": "3.7.3"
  }
 },
 "nbformat": 4,
 "nbformat_minor": 2
}
