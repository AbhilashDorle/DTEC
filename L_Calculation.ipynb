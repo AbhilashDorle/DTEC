{
 "cells": [
  {
   "cell_type": "code",
   "execution_count": 1,
   "metadata": {},
   "outputs": [],
   "source": [
    "import pandas as pd\n",
    "import numpy as np"
   ]
  },
  {
   "cell_type": "code",
   "execution_count": 2,
   "metadata": {},
   "outputs": [],
   "source": [
    "def cal_L(Y,l,K):\n",
    "    L=np.empty([Y.shape[0],(K-1)])  \n",
    "    Y_copy=np.copy(Y)\n",
    "    Y_copy=np.delete(Y_copy,l-1,1)\n",
    "    \n",
    "    for i in range(0,L.shape[0]):\n",
    "        val=Y[i][Y.shape[1]-1]\n",
    "        for j in range(0,L.shape[1]):\n",
    "            L[i][j]=np.log(Y[i][j]/val)\n",
    "#     Y_k=Y[:,l-1]\n",
    "#     Y_copy=np.copy(Y)\n",
    "#     Y_copy=np.delete(Y_copy,l-1,1)\n",
    "#     L=Y_copy\n",
    "#     for i in range(0, L.shape[0]):\n",
    "#         for j in range(0,L.shape[1]):\n",
    "#             L[i][j]=np.log(Y_copy[i][j]/Y_k[i])\n",
    "    return L"
   ]
  }
 ],
 "metadata": {
  "kernelspec": {
   "display_name": "Python 3",
   "language": "python",
   "name": "python3"
  },
  "language_info": {
   "codemirror_mode": {
    "name": "ipython",
    "version": 3
   },
   "file_extension": ".py",
   "mimetype": "text/x-python",
   "name": "python",
   "nbconvert_exporter": "python",
   "pygments_lexer": "ipython3",
   "version": "3.7.3"
  }
 },
 "nbformat": 4,
 "nbformat_minor": 2
}
