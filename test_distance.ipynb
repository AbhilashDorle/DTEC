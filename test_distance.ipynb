{
 "cells": [
  {
   "cell_type": "code",
   "execution_count": 1,
   "metadata": {},
   "outputs": [],
   "source": [
    "import pandas as pd\n",
    "import numpy as np\n",
    "from statistics import mean,stdev\n",
    "from scipy.spatial import distance\n",
    "import math"
   ]
  },
  {
   "cell_type": "code",
   "execution_count": 2,
   "metadata": {},
   "outputs": [],
   "source": [
    "def trans(shapelet,S):\n",
    "    D=np.zeros([1,len(shapelet)])\n",
    "    for i in range(0,D.shape[0]):\n",
    "        for j in range(0,D.shape[1]):\n",
    "# #             timestamp[i][j]=lc+i\n",
    "            D[i][j]=dist(S,shapelet[j])\n",
    "#     D=np.insert(D,0,1,axis=1)#convience\n",
    "    return D"
   ]
  },
  {
   "cell_type": "code",
   "execution_count": 3,
   "metadata": {},
   "outputs": [],
   "source": [
    "def dist(ts,C):\n",
    "    long_len=0\n",
    "    short_len=0\n",
    "    s_copy=[]\n",
    "    long_list=[]\n",
    "    minimum=10000.0\n",
    "    if len(ts)>len(C):\n",
    "        long_len=len(ts)\n",
    "        short_len=len(C)\n",
    "        long_list=list(ts)\n",
    "        s_copy=list(C)\n",
    "    elif len(ts)<len(C):\n",
    "        long_len=len(C)\n",
    "        short_len=len(ts)\n",
    "        long_list=list(C)\n",
    "        s_copy=list(ts)\n",
    "    else:\n",
    "        ts_copy=list(ts)\n",
    "        ts_copy=znorm(ts_copy)\n",
    "        C_copy=list(C)\n",
    "        C_copy=znorm(C_copy)\n",
    "        return distance.euclidean(ts_copy,C_copy)\n",
    "    if len(s_copy)!=1:\n",
    "        s_copy=znorm(s_copy)\n",
    "    for i in range(0,(long_len-short_len)+1):\n",
    "        longlist_copy=long_list[i:(i+len(s_copy))].copy()\n",
    "        if(len(longlist_copy)!=1):\n",
    "            z=znorm(longlist_copy)# Line 6 in Table 4\n",
    "        else:\n",
    "            z=longlist_copy\n",
    "        d_temp=distance.euclidean(z,s_copy)\n",
    "        if d_temp<minimum:\n",
    "            d=d_temp\n",
    "            minimum=d_temp\n",
    "    return d"
   ]
  },
  {
   "cell_type": "code",
   "execution_count": 4,
   "metadata": {},
   "outputs": [],
   "source": [
    "def znorm(ser):\n",
    "    new_ser=[]\n",
    "    u=mean(ser)\n",
    "    sigma=np.std(ser)\n",
    "    index=0\n",
    "    for value in ser:\n",
    "        new_ser.append((value-u)/sigma)\n",
    "        index=index+1\n",
    "    new_ser=np.array(new_ser)\n",
    "    return new_ser"
   ]
  }
 ],
 "metadata": {
  "kernelspec": {
   "display_name": "Python 3",
   "language": "python",
   "name": "python3"
  },
  "language_info": {
   "codemirror_mode": {
    "name": "ipython",
    "version": 3
   },
   "file_extension": ".py",
   "mimetype": "text/x-python",
   "name": "python",
   "nbconvert_exporter": "python",
   "pygments_lexer": "ipython3",
   "version": "3.7.3"
  }
 },
 "nbformat": 4,
 "nbformat_minor": 2
}
