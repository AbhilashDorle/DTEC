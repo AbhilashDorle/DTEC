{
 "cells": [
  {
   "cell_type": "code",
   "execution_count": 1,
   "metadata": {},
   "outputs": [],
   "source": [
    "import pandas as pd\n",
    "import numpy as np\n",
    "from statistics import mean,stdev\n",
    "from scipy.spatial import distance\n",
    "import math"
   ]
  },
  {
   "cell_type": "markdown",
   "metadata": {},
   "source": [
    "## Function to identify Shapelets\n",
    "### ts_df = Dataset\n",
    "### rep = Representative Time Series\n",
    "### subsequence_sample = Length of the shapelets\n",
    "### rep_labels = Labels of representative time series"
   ]
  },
  {
   "cell_type": "code",
   "execution_count": 2,
   "metadata": {},
   "outputs": [],
   "source": [
    "Shapelet=[]\n",
    "Earliness=[]\n",
    "def identifyshapelets(ts_df,rep,subsequence_sample,rep_labels):\n",
    "#     rep=rep_df.drop(rep_df.columns[0],axis=1)\n",
    "#     print('here')\n",
    "#     rep_labels=rep_df[0]\n",
    "#     print('here')\n",
    "    for row in range(0,rep.shape[0]):\n",
    "        ts=rep.iloc[row]\n",
    "#         print(ts)\n",
    "        for length in subsequence_sample:\n",
    "            for j in range(0,(len(ts)-length)+1):\n",
    "                ts_copy=list(ts[j:(j+length)])\n",
    "#                 print('shapelet candidate',ts_copy)\n",
    "#                 print('LABEL is', rep_labels[row])\n",
    "                computeDistance(ts_copy,ts_df,rep_labels[row],j+length)\n",
    "    print('*********************************')\n",
    "    print('Shapelets Identified')\n",
    "    return Shapelet, Earliness"
   ]
  },
  {
   "cell_type": "markdown",
   "metadata": {},
   "source": [
    "## Function to compute distance between shapelet and timeseries subsequence\n",
    "### s = subsequence\n",
    "### D = Dataset\n",
    "### label = label of representative time series\n",
    "### last = end timestamp of the subsequence"
   ]
  },
  {
   "cell_type": "code",
   "execution_count": 3,
   "metadata": {},
   "outputs": [],
   "source": [
    "def computeDistance(s,D,label,last):\n",
    "#     print('in ComputeDistance')\n",
    "#     print(D.head(3))\n",
    "#     print('NEXT')\n",
    "    labels=D['0']\n",
    "    D=D.drop(D.columns[0],axis=1)\n",
    "#     print(D.head(3))\n",
    "    in_classdis=[]\n",
    "    out_classdis=[]\n",
    "    \n",
    "    dis=np.full(D.shape[0],10000)#Line 1 in Table 4\n",
    "    dis=dis.astype('float64')\n",
    "    s_copy=list(s)\n",
    "    s_copy=znorm(s_copy)\n",
    "    for i in range(0,D.shape[0]):\n",
    "        timeseries=D.loc[i]\n",
    "        for j in range(0,(len(timeseries)-len(s)+1)):\n",
    "            timeseries_copy=timeseries[j:(j+len(s))].copy()\n",
    "            z=znorm(timeseries_copy)# Line 6 in Table 4\n",
    "            d=distance.euclidean(z,s_copy)\n",
    "            if float(d)<float(dis[i]):\n",
    "                minimum=float(d)\n",
    "            else:\n",
    "                minimum=float(dis[i])\n",
    "            dis[i]=float(minimum)\n",
    "        if labels[i]==label:\n",
    "#             print('Timeseries',i)\n",
    "#             print('labels are equal')\n",
    "            in_classdis.append(dis[i]/math.sqrt(len(s)))\n",
    "        else:\n",
    "#             print('Timeseries',i)\n",
    "#             print('labels are not equal')\n",
    "            out_classdis.append(dis[i]/math.sqrt(len(s)))\n",
    "    quartile(in_classdis,out_classdis,s,last,len(s))"
   ]
  },
  {
   "cell_type": "code",
   "execution_count": 4,
   "metadata": {},
   "outputs": [],
   "source": [
    "# function to perform z-normalization\n",
    "def znorm(ser):\n",
    "    new_ser=[]\n",
    "    u=mean(ser)\n",
    "    sigma=np.std(ser)\n",
    "    index=0\n",
    "    for value in ser:\n",
    "        new_ser.append((value-u)/sigma)\n",
    "        index=index+1\n",
    "    new_ser=np.array(new_ser)\n",
    "    return new_ser "
   ]
  },
  {
   "cell_type": "markdown",
   "metadata": {},
   "source": [
    "## Function to check the 1st and 3rd quartile\n",
    "### inclass = inclass distance list\n",
    "### outclass = outclass distance list\n",
    "### s = candidate shapelet"
   ]
  },
  {
   "cell_type": "code",
   "execution_count": 5,
   "metadata": {},
   "outputs": [],
   "source": [
    "def quartile(inclass,outclass,s,end_timestamp,sub_length):\n",
    "    if float(np.percentile(inclass,75))>float(np.percentile(outclass,25)):\n",
    "        Shapelet.append(s)\n",
    "        Earliness.append(end_timestamp/sub_length)"
   ]
  }
 ],
 "metadata": {
  "kernelspec": {
   "display_name": "Python 3",
   "language": "python",
   "name": "python3"
  },
  "language_info": {
   "codemirror_mode": {
    "name": "ipython",
    "version": 3
   },
   "file_extension": ".py",
   "mimetype": "text/x-python",
   "name": "python",
   "nbconvert_exporter": "python",
   "pygments_lexer": "ipython3",
   "version": "3.7.3"
  }
 },
 "nbformat": 4,
 "nbformat_minor": 2
}
